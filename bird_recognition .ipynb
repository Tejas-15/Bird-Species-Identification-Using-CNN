{
 "cells": [
  {
   "cell_type": "code",
   "execution_count": 1,
   "id": "08d6952e",
   "metadata": {},
   "outputs": [],
   "source": [
    "import os\n",
    "import numpy as np\n",
    "import tensorflow as tf\n",
    "from keras.preprocessing.image import ImageDataGenerator"
   ]
  },
  {
   "cell_type": "code",
   "execution_count": 2,
   "id": "38021dad",
   "metadata": {},
   "outputs": [
    {
     "data": {
      "text/plain": [
       "'2.7.0'"
      ]
     },
     "execution_count": 2,
     "metadata": {},
     "output_type": "execute_result"
    }
   ],
   "source": [
    "tf.__version__"
   ]
  },
  {
   "cell_type": "code",
   "execution_count": 3,
   "id": "57f764dc",
   "metadata": {
    "scrolled": true
   },
   "outputs": [
    {
     "name": "stdout",
     "output_type": "stream",
     "text": [
      "Found 1551 images belonging to 11 classes.\n",
      "Found 55 images belonging to 11 classes.\n"
     ]
    }
   ],
   "source": [
    "train_datagen = ImageDataGenerator(\n",
    "        rescale=1./255,\n",
    "        shear_range=0.2,\n",
    "        zoom_range=0.2,\n",
    "        horizontal_flip=True)\n",
    "test_datagen = ImageDataGenerator(\n",
    "        rescale=1./255)\n",
    "train_dataset = train_datagen.flow_from_directory(\n",
    "        'train',\n",
    "        target_size=(64, 64),\n",
    "        batch_size=32,\n",
    "        class_mode='categorical')\n",
    "test_dataset = test_datagen.flow_from_directory(\n",
    "        'test',\n",
    "        target_size=(64, 64),\n",
    "        batch_size=32,\n",
    "        class_mode='categorical')"
   ]
  },
  {
   "cell_type": "markdown",
   "id": "dc751d42",
   "metadata": {},
   "source": [
    "# Classification"
   ]
  },
  {
   "cell_type": "code",
   "execution_count": 4,
   "id": "dbed7cbc",
   "metadata": {},
   "outputs": [],
   "source": [
    "model = tf.keras.Sequential([\n",
    "    tf.keras.layers.experimental.preprocessing.Rescaling(1./255),\n",
    "    tf.keras.layers.Conv2D(32, 3, activation='relu'),\n",
    "    tf.keras.layers.MaxPooling2D(),\n",
    "    tf.keras.layers.Conv2D(32, 3, activation='relu'),\n",
    "    tf.keras.layers.MaxPooling2D(),\n",
    "    tf.keras.layers.Conv2D(32, 3, activation='relu'),\n",
    "    tf.keras.layers.MaxPooling2D(),\n",
    "    tf.keras.layers.Flatten(),\n",
    "    tf.keras.layers.Dense(128, activation='relu'),\n",
    "    tf.keras.layers.Dense(units=11 , activation='softmax')\n",
    "])"
   ]
  },
  {
   "cell_type": "code",
   "execution_count": 5,
   "id": "57bcbc3f",
   "metadata": {},
   "outputs": [],
   "source": [
    "cnn = tf.keras.models.Sequential()"
   ]
  },
  {
   "cell_type": "code",
   "execution_count": 6,
   "id": "966c0453",
   "metadata": {},
   "outputs": [],
   "source": [
    "cnn.add(tf.keras.layers.Conv2D(filters=128 , kernel_size=3 , activation='relu' , input_shape=[64,64,3]))\n",
    "cnn.add(tf.keras.layers.MaxPool2D(pool_size=2,strides=2))\n"
   ]
  },
  {
   "cell_type": "code",
   "execution_count": 7,
   "id": "d14c02a9",
   "metadata": {},
   "outputs": [],
   "source": [
    "\n",
    "cnn.add(tf.keras.layers.Conv2D(filters=128 , kernel_size=3 , activation='relu' ))\n",
    "cnn.add(tf.keras.layers.MaxPool2D(pool_size=2 , strides=2))"
   ]
  },
  {
   "cell_type": "code",
   "execution_count": 8,
   "id": "ded0030a",
   "metadata": {},
   "outputs": [],
   "source": [
    "cnn.add(tf.keras.layers.Flatten())"
   ]
  },
  {
   "cell_type": "code",
   "execution_count": 9,
   "id": "40029060",
   "metadata": {},
   "outputs": [],
   "source": [
    "\n",
    "cnn.add(tf.keras.layers.Dense(units=512, activation='relu'))"
   ]
  },
  {
   "cell_type": "code",
   "execution_count": 10,
   "id": "b10484c5",
   "metadata": {},
   "outputs": [],
   "source": [
    "cnn.add(tf.keras.layers.Dense(units=11 , activation='softmax'))"
   ]
  },
  {
   "cell_type": "code",
   "execution_count": 11,
   "id": "a6000833",
   "metadata": {},
   "outputs": [],
   "source": [
    "cnn.compile(optimizer = 'adam' , loss = 'categorical_crossentropy' , metrics = ['accuracy'])\n"
   ]
  },
  {
   "cell_type": "code",
   "execution_count": 12,
   "id": "a841af59",
   "metadata": {},
   "outputs": [
    {
     "name": "stdout",
     "output_type": "stream",
     "text": [
      "Epoch 1/50\n",
      "49/49 [==============================] - 27s 524ms/step - loss: 2.1409 - accuracy: 0.2650 - val_loss: 1.1609 - val_accuracy: 0.6727\n",
      "Epoch 2/50\n",
      "49/49 [==============================] - 20s 397ms/step - loss: 1.1753 - accuracy: 0.6183 - val_loss: 1.2460 - val_accuracy: 0.6182\n",
      "Epoch 3/50\n",
      "49/49 [==============================] - 18s 367ms/step - loss: 0.7855 - accuracy: 0.7576 - val_loss: 0.5666 - val_accuracy: 0.8545\n",
      "Epoch 4/50\n",
      "49/49 [==============================] - 19s 378ms/step - loss: 0.6554 - accuracy: 0.7911 - val_loss: 0.4222 - val_accuracy: 0.8364\n",
      "Epoch 5/50\n",
      "49/49 [==============================] - 19s 395ms/step - loss: 0.6383 - accuracy: 0.8072 - val_loss: 0.3206 - val_accuracy: 0.9091\n",
      "Epoch 6/50\n",
      "49/49 [==============================] - 19s 390ms/step - loss: 0.5302 - accuracy: 0.8324 - val_loss: 0.3198 - val_accuracy: 0.8727\n",
      "Epoch 7/50\n",
      "49/49 [==============================] - 18s 367ms/step - loss: 0.4340 - accuracy: 0.8659 - val_loss: 0.3273 - val_accuracy: 0.8727\n",
      "Epoch 8/50\n",
      "49/49 [==============================] - 18s 372ms/step - loss: 0.3740 - accuracy: 0.8801 - val_loss: 0.5595 - val_accuracy: 0.8000\n",
      "Epoch 9/50\n",
      "49/49 [==============================] - 18s 365ms/step - loss: 0.3593 - accuracy: 0.8839 - val_loss: 0.4568 - val_accuracy: 0.8727\n",
      "Epoch 10/50\n",
      "49/49 [==============================] - 18s 366ms/step - loss: 0.3118 - accuracy: 0.9026 - val_loss: 0.2964 - val_accuracy: 0.8727\n",
      "Epoch 11/50\n",
      "49/49 [==============================] - 18s 368ms/step - loss: 0.2437 - accuracy: 0.9149 - val_loss: 0.3516 - val_accuracy: 0.8727\n",
      "Epoch 12/50\n",
      "49/49 [==============================] - 18s 369ms/step - loss: 0.2517 - accuracy: 0.9207 - val_loss: 0.2512 - val_accuracy: 0.8727\n",
      "Epoch 13/50\n",
      "49/49 [==============================] - 18s 367ms/step - loss: 0.1898 - accuracy: 0.9400 - val_loss: 0.3369 - val_accuracy: 0.8727\n",
      "Epoch 14/50\n",
      "49/49 [==============================] - 18s 365ms/step - loss: 0.1918 - accuracy: 0.9375 - val_loss: 0.2748 - val_accuracy: 0.8727\n",
      "Epoch 15/50\n",
      "49/49 [==============================] - 18s 367ms/step - loss: 0.1732 - accuracy: 0.9465 - val_loss: 0.3390 - val_accuracy: 0.8909\n",
      "Epoch 16/50\n",
      "49/49 [==============================] - 19s 380ms/step - loss: 0.1589 - accuracy: 0.9420 - val_loss: 0.2525 - val_accuracy: 0.9091\n",
      "Epoch 17/50\n",
      "49/49 [==============================] - 18s 366ms/step - loss: 0.1426 - accuracy: 0.9516 - val_loss: 0.1704 - val_accuracy: 0.9273\n",
      "Epoch 18/50\n",
      "49/49 [==============================] - 19s 377ms/step - loss: 0.1210 - accuracy: 0.9613 - val_loss: 0.1951 - val_accuracy: 0.9273\n",
      "Epoch 19/50\n",
      "49/49 [==============================] - 19s 376ms/step - loss: 0.1185 - accuracy: 0.9613 - val_loss: 0.2038 - val_accuracy: 0.9091\n",
      "Epoch 20/50\n",
      "49/49 [==============================] - 18s 374ms/step - loss: 0.0898 - accuracy: 0.9710 - val_loss: 0.4180 - val_accuracy: 0.8909\n",
      "Epoch 21/50\n",
      "49/49 [==============================] - 18s 368ms/step - loss: 0.1098 - accuracy: 0.9607 - val_loss: 0.1456 - val_accuracy: 0.9455\n",
      "Epoch 22/50\n",
      "49/49 [==============================] - 18s 369ms/step - loss: 0.1033 - accuracy: 0.9697 - val_loss: 0.1774 - val_accuracy: 0.9455\n",
      "Epoch 23/50\n",
      "49/49 [==============================] - 18s 369ms/step - loss: 0.1676 - accuracy: 0.9446 - val_loss: 0.1443 - val_accuracy: 0.9455\n",
      "Epoch 24/50\n",
      "49/49 [==============================] - 18s 374ms/step - loss: 0.1175 - accuracy: 0.9620 - val_loss: 0.0856 - val_accuracy: 0.9455\n",
      "Epoch 25/50\n",
      "49/49 [==============================] - 18s 365ms/step - loss: 0.0821 - accuracy: 0.9716 - val_loss: 0.1714 - val_accuracy: 0.9636\n",
      "Epoch 26/50\n",
      "49/49 [==============================] - 18s 366ms/step - loss: 0.0685 - accuracy: 0.9781 - val_loss: 0.1007 - val_accuracy: 0.9636\n",
      "Epoch 27/50\n",
      "49/49 [==============================] - 20s 411ms/step - loss: 0.0413 - accuracy: 0.9903 - val_loss: 0.1371 - val_accuracy: 0.9636\n",
      "Epoch 28/50\n",
      "49/49 [==============================] - 19s 394ms/step - loss: 0.0454 - accuracy: 0.9852 - val_loss: 0.0529 - val_accuracy: 0.9818\n",
      "Epoch 29/50\n",
      "49/49 [==============================] - 18s 375ms/step - loss: 0.0520 - accuracy: 0.9839 - val_loss: 0.1653 - val_accuracy: 0.9273\n",
      "Epoch 30/50\n",
      "49/49 [==============================] - 18s 373ms/step - loss: 0.0560 - accuracy: 0.9787 - val_loss: 0.1294 - val_accuracy: 0.9273\n",
      "Epoch 31/50\n",
      "49/49 [==============================] - 18s 363ms/step - loss: 0.0729 - accuracy: 0.9774 - val_loss: 0.1694 - val_accuracy: 0.9273\n",
      "Epoch 32/50\n",
      "49/49 [==============================] - 18s 363ms/step - loss: 0.0707 - accuracy: 0.9749 - val_loss: 0.0550 - val_accuracy: 0.9818\n",
      "Epoch 33/50\n",
      "49/49 [==============================] - 18s 367ms/step - loss: 0.0655 - accuracy: 0.9774 - val_loss: 0.1587 - val_accuracy: 0.9636\n",
      "Epoch 34/50\n",
      "49/49 [==============================] - 18s 364ms/step - loss: 0.0531 - accuracy: 0.9826 - val_loss: 0.2987 - val_accuracy: 0.9273\n",
      "Epoch 35/50\n",
      "49/49 [==============================] - 18s 364ms/step - loss: 0.0386 - accuracy: 0.9884 - val_loss: 0.2051 - val_accuracy: 0.9455\n",
      "Epoch 36/50\n",
      "49/49 [==============================] - 18s 372ms/step - loss: 0.0396 - accuracy: 0.9877 - val_loss: 0.2384 - val_accuracy: 0.9273\n",
      "Epoch 37/50\n",
      "49/49 [==============================] - 18s 365ms/step - loss: 0.0307 - accuracy: 0.9890 - val_loss: 0.1246 - val_accuracy: 0.9455\n",
      "Epoch 38/50\n",
      "49/49 [==============================] - 18s 366ms/step - loss: 0.0595 - accuracy: 0.9800 - val_loss: 0.0850 - val_accuracy: 0.9455\n",
      "Epoch 39/50\n",
      "49/49 [==============================] - 20s 409ms/step - loss: 0.0496 - accuracy: 0.9865 - val_loss: 0.3769 - val_accuracy: 0.8727\n",
      "Epoch 40/50\n",
      "49/49 [==============================] - 18s 367ms/step - loss: 0.0803 - accuracy: 0.9716 - val_loss: 0.2822 - val_accuracy: 0.8909\n",
      "Epoch 41/50\n",
      "49/49 [==============================] - 18s 367ms/step - loss: 0.0532 - accuracy: 0.9852 - val_loss: 0.2173 - val_accuracy: 0.9636\n",
      "Epoch 42/50\n",
      "49/49 [==============================] - 18s 364ms/step - loss: 0.0435 - accuracy: 0.9858 - val_loss: 0.1718 - val_accuracy: 0.9636\n",
      "Epoch 43/50\n",
      "49/49 [==============================] - 18s 366ms/step - loss: 0.0340 - accuracy: 0.9890 - val_loss: 0.1890 - val_accuracy: 0.9455\n",
      "Epoch 44/50\n",
      "49/49 [==============================] - 18s 366ms/step - loss: 0.0154 - accuracy: 0.9968 - val_loss: 0.2032 - val_accuracy: 0.9636\n",
      "Epoch 45/50\n",
      "49/49 [==============================] - 19s 377ms/step - loss: 0.0359 - accuracy: 0.9890 - val_loss: 0.3012 - val_accuracy: 0.9091\n",
      "Epoch 46/50\n",
      "49/49 [==============================] - 18s 372ms/step - loss: 0.0378 - accuracy: 0.9871 - val_loss: 0.0700 - val_accuracy: 0.9636\n",
      "Epoch 47/50\n",
      "49/49 [==============================] - 18s 368ms/step - loss: 0.0259 - accuracy: 0.9942 - val_loss: 0.1151 - val_accuracy: 0.9273\n",
      "Epoch 48/50\n",
      "49/49 [==============================] - 18s 364ms/step - loss: 0.0606 - accuracy: 0.9800 - val_loss: 0.1019 - val_accuracy: 0.9636\n",
      "Epoch 49/50\n",
      "49/49 [==============================] - 23s 467ms/step - loss: 0.0361 - accuracy: 0.9903 - val_loss: 0.1556 - val_accuracy: 0.9636\n",
      "Epoch 50/50\n",
      "49/49 [==============================] - 18s 370ms/step - loss: 0.0476 - accuracy: 0.9877 - val_loss: 0.1000 - val_accuracy: 0.9636\n"
     ]
    },
    {
     "data": {
      "text/plain": [
       "<keras.callbacks.History at 0x1bd3df28b50>"
      ]
     },
     "execution_count": 12,
     "metadata": {},
     "output_type": "execute_result"
    }
   ],
   "source": [
    "cnn.fit(x = train_dataset , validation_data = test_dataset , epochs = 50)"
   ]
  },
  {
   "cell_type": "code",
   "execution_count": 13,
   "id": "5d6248fe",
   "metadata": {},
   "outputs": [],
   "source": [
    "cnn.save_weights('bird_model.h5')"
   ]
  },
  {
   "cell_type": "code",
   "execution_count": 14,
   "id": "421c51c0",
   "metadata": {},
   "outputs": [],
   "source": [
    "cnn.save(r'bird_model.h5')"
   ]
  },
  {
   "cell_type": "code",
   "execution_count": 15,
   "id": "040c0eff",
   "metadata": {},
   "outputs": [],
   "source": [
    "cnn.load_weights('bird_model.h5')"
   ]
  },
  {
   "cell_type": "code",
   "execution_count": 16,
   "id": "888dfe54",
   "metadata": {},
   "outputs": [
    {
     "data": {
      "text/plain": [
       "{'ALEXANDRINE PARAKEET': 0,\n",
       " 'BALD EAGLE': 1,\n",
       " 'CHIPPING SPARROW': 2,\n",
       " 'COCKATOO': 3,\n",
       " 'CROW': 4,\n",
       " 'FLAMINGO': 5,\n",
       " 'IVORY GULL': 6,\n",
       " 'OSTRICH': 7,\n",
       " 'PEACOCK': 8,\n",
       " 'PELICAN': 9,\n",
       " 'STRIPED OWL': 10}"
      ]
     },
     "execution_count": 16,
     "metadata": {},
     "output_type": "execute_result"
    }
   ],
   "source": [
    "train_dataset.class_indices"
   ]
  },
  {
   "cell_type": "code",
   "execution_count": 17,
   "id": "b4eb3d3a",
   "metadata": {},
   "outputs": [],
   "source": [
    "from keras.preprocessing import image\n",
    "test_image = image.load_img('valid/COCKATOO/3.jpg',target_size=(64,64))\n",
    "test_image = image.img_to_array(test_image)\n",
    "test_image = np.expand_dims(test_image,axis=0)\n",
    "result = cnn.predict(test_image)"
   ]
  },
  {
   "cell_type": "code",
   "execution_count": 18,
   "id": "85b105e6",
   "metadata": {},
   "outputs": [
    {
     "data": {
      "text/plain": [
       "array([0., 0., 0., 1., 0., 0., 0., 0., 0., 0., 0.], dtype=float32)"
      ]
     },
     "execution_count": 18,
     "metadata": {},
     "output_type": "execute_result"
    }
   ],
   "source": [
    "y_predicted = cnn.predict(test_image)\n",
    "y_predicted[0]"
   ]
  },
  {
   "cell_type": "code",
   "execution_count": 19,
   "id": "8bdaff8a",
   "metadata": {},
   "outputs": [
    {
     "name": "stdout",
     "output_type": "stream",
     "text": [
      "3\n"
     ]
    }
   ],
   "source": [
    "cn=np.argmax(y_predicted[0])\n",
    "print(cn)"
   ]
  },
  {
   "cell_type": "code",
   "execution_count": 20,
   "id": "8a4700f3",
   "metadata": {},
   "outputs": [
    {
     "name": "stdout",
     "output_type": "stream",
     "text": [
      "COCKATOO\n"
     ]
    }
   ],
   "source": [
    "if cn==0 :\n",
    "    print('ALEXANDRINE PARAKEET')\n",
    "elif cn==1 :\n",
    "    print('BALD EAGLE')\n",
    "elif cn==2 :\n",
    "    print('CHIPPING SPARROW')\n",
    "elif cn==3 :\n",
    "    print('COCKATOO')\n",
    "elif cn==4 :\n",
    "    print('CROW')\n",
    "elif cn==5 :\n",
    "    print('FLAMINGO')\n",
    "elif cn==6 :\n",
    "    print('IVORY GULL')\n",
    "elif cn==7 :\n",
    "    print('OSTRICH')\n",
    "elif cn==8 :\n",
    "    print('PEACOCK')\n",
    "elif cn==9 :\n",
    "    print('PELICAN')\n",
    "elif cn==10 :\n",
    "    print('STRIPED OWL')"
   ]
  }
 ],
 "metadata": {
  "kernelspec": {
   "display_name": "Python 3 (ipykernel)",
   "language": "python",
   "name": "python3"
  },
  "language_info": {
   "codemirror_mode": {
    "name": "ipython",
    "version": 3
   },
   "file_extension": ".py",
   "mimetype": "text/x-python",
   "name": "python",
   "nbconvert_exporter": "python",
   "pygments_lexer": "ipython3",
   "version": "3.9.10"
  }
 },
 "nbformat": 4,
 "nbformat_minor": 5
}
